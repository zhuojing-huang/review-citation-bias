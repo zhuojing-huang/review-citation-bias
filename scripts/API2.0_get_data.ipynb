{
 "cells": [
  {
   "cell_type": "markdown",
   "metadata": {
    "id": "5z7eRJcOiWID"
   },
   "source": [
    "https://docs.openreview.net/how-to-guides/data-retrieval-and-modification/how-to-get-all-reviews"
   ]
  },
  {
   "cell_type": "code",
   "execution_count": 1,
   "metadata": {
    "colab": {
     "base_uri": "https://localhost:8080/"
    },
    "executionInfo": {
     "elapsed": 8900,
     "status": "ok",
     "timestamp": 1737056487932,
     "user": {
      "displayName": "Zhuojing Huang",
      "userId": "12887835132494288694"
     },
     "user_tz": -60
    },
    "id": "2NEOeSmlQEWC",
    "outputId": "69313614-4287-4b7b-e317-b76004c12d09"
   },
   "outputs": [
    {
     "name": "stdout",
     "output_type": "stream",
     "text": [
      "Collecting openreview-py\n",
      "  Downloading openreview_py-1.46.0-py3-none-any.whl.metadata (4.5 kB)\n",
      "Collecting pycryptodome (from openreview-py)\n",
      "  Downloading pycryptodome-3.21.0-cp36-abi3-manylinux_2_17_x86_64.manylinux2014_x86_64.whl.metadata (3.4 kB)\n",
      "Requirement already satisfied: requests>=2.18.4 in /usr/local/lib/python3.11/dist-packages (from openreview-py) (2.32.3)\n",
      "Requirement already satisfied: future in /usr/local/lib/python3.11/dist-packages (from openreview-py) (1.0.0)\n",
      "Requirement already satisfied: tqdm in /usr/local/lib/python3.11/dist-packages (from openreview-py) (4.67.1)\n",
      "Requirement already satisfied: Deprecated in /usr/local/lib/python3.11/dist-packages (from openreview-py) (1.2.15)\n",
      "Collecting pylatexenc (from openreview-py)\n",
      "  Downloading pylatexenc-2.10.tar.gz (162 kB)\n",
      "\u001b[2K     \u001b[90m━━━━━━━━━━━━━━━━━━━━━━━━━━━━━━━━━━━━━━━━\u001b[0m \u001b[32m162.6/162.6 kB\u001b[0m \u001b[31m5.4 MB/s\u001b[0m eta \u001b[36m0:00:00\u001b[0m\n",
      "\u001b[?25h  Preparing metadata (setup.py) ... \u001b[?25l\u001b[?25hdone\n",
      "Collecting tld>=0.12 (from openreview-py)\n",
      "  Downloading tld-0.13-py2.py3-none-any.whl.metadata (9.4 kB)\n",
      "Requirement already satisfied: pyjwt in /usr/local/lib/python3.11/dist-packages (from openreview-py) (2.10.1)\n",
      "Requirement already satisfied: charset-normalizer<4,>=2 in /usr/local/lib/python3.11/dist-packages (from requests>=2.18.4->openreview-py) (3.4.1)\n",
      "Requirement already satisfied: idna<4,>=2.5 in /usr/local/lib/python3.11/dist-packages (from requests>=2.18.4->openreview-py) (3.10)\n",
      "Requirement already satisfied: urllib3<3,>=1.21.1 in /usr/local/lib/python3.11/dist-packages (from requests>=2.18.4->openreview-py) (2.3.0)\n",
      "Requirement already satisfied: certifi>=2017.4.17 in /usr/local/lib/python3.11/dist-packages (from requests>=2.18.4->openreview-py) (2024.12.14)\n",
      "Requirement already satisfied: wrapt<2,>=1.10 in /usr/local/lib/python3.11/dist-packages (from Deprecated->openreview-py) (1.17.0)\n",
      "Downloading openreview_py-1.46.0-py3-none-any.whl (705 kB)\n",
      "\u001b[2K   \u001b[90m━━━━━━━━━━━━━━━━━━━━━━━━━━━━━━━━━━━━━━━━\u001b[0m \u001b[32m705.0/705.0 kB\u001b[0m \u001b[31m23.6 MB/s\u001b[0m eta \u001b[36m0:00:00\u001b[0m\n",
      "\u001b[?25hDownloading tld-0.13-py2.py3-none-any.whl (263 kB)\n",
      "\u001b[2K   \u001b[90m━━━━━━━━━━━━━━━━━━━━━━━━━━━━━━━━━━━━━━━━\u001b[0m \u001b[32m263.8/263.8 kB\u001b[0m \u001b[31m18.6 MB/s\u001b[0m eta \u001b[36m0:00:00\u001b[0m\n",
      "\u001b[?25hDownloading pycryptodome-3.21.0-cp36-abi3-manylinux_2_17_x86_64.manylinux2014_x86_64.whl (2.3 MB)\n",
      "\u001b[2K   \u001b[90m━━━━━━━━━━━━━━━━━━━━━━━━━━━━━━━━━━━━━━━━\u001b[0m \u001b[32m2.3/2.3 MB\u001b[0m \u001b[31m55.4 MB/s\u001b[0m eta \u001b[36m0:00:00\u001b[0m\n",
      "\u001b[?25hBuilding wheels for collected packages: pylatexenc\n",
      "  Building wheel for pylatexenc (setup.py) ... \u001b[?25l\u001b[?25hdone\n",
      "  Created wheel for pylatexenc: filename=pylatexenc-2.10-py3-none-any.whl size=136816 sha256=7756e45a2aa5cc0a8fc306d427daa90f76d4a621163f62d74b790ae11b70dbd8\n",
      "  Stored in directory: /root/.cache/pip/wheels/b1/7a/33/9fdd892f784ed4afda62b685ae3703adf4c91aa0f524c28f03\n",
      "Successfully built pylatexenc\n",
      "Installing collected packages: pylatexenc, tld, pycryptodome, openreview-py\n",
      "Successfully installed openreview-py-1.46.0 pycryptodome-3.21.0 pylatexenc-2.10 tld-0.13\n"
     ]
    }
   ],
   "source": [
    "!pip install openreview-py"
   ]
  },
  {
   "cell_type": "code",
   "execution_count": 4,
   "metadata": {
    "executionInfo": {
     "elapsed": 374,
     "status": "ok",
     "timestamp": 1737056512943,
     "user": {
      "displayName": "Zhuojing Huang",
      "userId": "12887835132494288694"
     },
     "user_tz": -60
    },
    "id": "0CGfqh8iOyqc"
   },
   "outputs": [],
   "source": [
    "import openreview\n",
    "\n",
    "# API V2\n",
    "client = openreview.api.OpenReviewClient(\n",
    "    baseurl='https://api2.openreview.net',\n",
    "    username=\"\",\n",
    "    password=\"\" \n",
    ")\n"
   ]
  },
  {
   "cell_type": "code",
   "execution_count": 5,
   "metadata": {
    "colab": {
     "base_uri": "https://localhost:8080/"
    },
    "executionInfo": {
     "elapsed": 1616,
     "status": "ok",
     "timestamp": 1737056586767,
     "user": {
      "displayName": "Zhuojing Huang",
      "userId": "12887835132494288694"
     },
     "user_tz": -60
    },
    "id": "uzuszT5po9WF",
    "outputId": "102cb03d-dca9-4cdd-d21f-6dac5e0c242f"
   },
   "outputs": [
    {
     "name": "stderr",
     "output_type": "stream",
     "text": [
      "Getting V2 Notes: 100%|█████████▉| 2017/2020 [00:00<00:00, 2963.02it/s]\n"
     ]
    }
   ],
   "source": [
    "notes = client.get_all_notes(invitation = \"EMNLP/2023/Conference/-/Submission\")"
   ]
  },
  {
   "cell_type": "code",
   "execution_count": null,
   "metadata": {
    "colab": {
     "base_uri": "https://localhost:8080/"
    },
    "executionInfo": {
     "elapsed": 26412,
     "status": "ok",
     "timestamp": 1733083788899,
     "user": {
      "displayName": "Zhuojing Huang",
      "userId": "12887835132494288694"
     },
     "user_tz": -60
    },
    "id": "NHP5n1ByQPoN",
    "outputId": "86407d14-fdcc-4ce8-f6b7-53a9f9f3db6e"
   },
   "outputs": [
    {
     "name": "stderr",
     "output_type": "stream",
     "text": [
      "Getting V2 Notes: 100%|█████████▉| 4233/4238 [00:20<00:00, 206.16it/s]\n"
     ]
    }
   ],
   "source": [
    "venue_id = 'NeurIPS.cc/2024/Conference'\n",
    "venue_group = client.get_group(venue_id)\n",
    "#content_keys = venue_group.content.keys()\n",
    "#print(content_keys)\n",
    "submission_name = venue_group.content['submission_name']['value']\n",
    "submissions = client.get_all_notes(invitation=f'{venue_id}/-/{submission_name}', details='replies')\n",
    "\n"
   ]
  },
  {
   "cell_type": "code",
   "execution_count": null,
   "metadata": {
    "id": "6EN_z2JjSC4q"
   },
   "outputs": [],
   "source": [
    "review_name = venue_group.content['review_name']['value']\n",
    "\n",
    "reviews=[openreview.api.Note.from_json(reply) for s in submissions for reply in s.details['replies'] if f'{venue_id}/{submission_name}{s.number}/-/{review_name}' in reply['invitations']]"
   ]
  },
  {
   "cell_type": "code",
   "execution_count": null,
   "metadata": {
    "colab": {
     "base_uri": "https://localhost:8080/"
    },
    "executionInfo": {
     "elapsed": 9,
     "status": "ok",
     "timestamp": 1733083789587,
     "user": {
      "displayName": "Zhuojing Huang",
      "userId": "12887835132494288694"
     },
     "user_tz": -60
    },
    "id": "x_dmPQ1MUrl3",
    "outputId": "d636cc8b-5e93-4373-acd8-9fc3970bc111"
   },
   "outputs": [
    {
     "data": {
      "text/plain": [
       "list"
      ]
     },
     "execution_count": 16,
     "metadata": {},
     "output_type": "execute_result"
    }
   ],
   "source": [
    "type(reviews)"
   ]
  },
  {
   "cell_type": "code",
   "execution_count": null,
   "metadata": {
    "colab": {
     "base_uri": "https://localhost:8080/"
    },
    "executionInfo": {
     "elapsed": 6,
     "status": "ok",
     "timestamp": 1733083789587,
     "user": {
      "displayName": "Zhuojing Huang",
      "userId": "12887835132494288694"
     },
     "user_tz": -60
    },
    "id": "4yDmapDLXC1k",
    "outputId": "0fd639d4-fb39-47a2-d808-e289c42e5ac6"
   },
   "outputs": [
    {
     "name": "stdout",
     "output_type": "stream",
     "text": [
      "16650\n"
     ]
    }
   ],
   "source": [
    "print(len(reviews))"
   ]
  },
  {
   "cell_type": "code",
   "execution_count": null,
   "metadata": {
    "colab": {
     "base_uri": "https://localhost:8080/"
    },
    "collapsed": true,
    "executionInfo": {
     "elapsed": 212,
     "status": "ok",
     "timestamp": 1733057167913,
     "user": {
      "displayName": "Zhuojing Huang",
      "userId": "12887835132494288694"
     },
     "user_tz": -60
    },
    "id": "8936QsdMUcXt",
    "outputId": "02de8a6f-df1a-4467-86af-b907d114c8ec"
   },
   "outputs": [
    {
     "name": "stdout",
     "output_type": "stream",
     "text": [
      "{'cdate': 1691035545695,\n",
      " 'content': {'Ethical_Concerns': {'value': 'No'},\n",
      "             'Excitement': {'value': '4: Strong: This paper deepens the '\n",
      "                                     'understanding of some phenomenon or '\n",
      "                                     'lowers the barriers to an existing '\n",
      "                                     'research direction.'},\n",
      "             'Paper_Topic_and_Main_Contributions': {'value': 'The authors '\n",
      "                                                             'propose an '\n",
      "                                                             'induction-augmented '\n",
      "                                                             'framework that '\n",
      "                                                             'utilizes '\n",
      "                                                             'inductive '\n",
      "                                                             'knowledge '\n",
      "                                                             'derived from '\n",
      "                                                             'LLMs and the '\n",
      "                                                             'retrieved '\n",
      "                                                             'documents for '\n",
      "                                                             'better implicit '\n",
      "                                                             'reasoning. '\n",
      "                                                             'Specifically, '\n",
      "                                                             'they enhance the '\n",
      "                                                             'conventional RAG '\n",
      "                                                             'with an inductor '\n",
      "                                                             'that generates '\n",
      "                                                             'inductive '\n",
      "                                                             'knowledge.\\n'\n",
      "                                                             '\\n'\n",
      "                                                             'The authors '\n",
      "                                                             'propose an '\n",
      "                                                             'IAG-GPT model '\n",
      "                                                             'which directly '\n",
      "                                                             'utilizes GPT-3 '\n",
      "                                                             'and IAG-Student '\n",
      "                                                             'which is first '\n",
      "                                                             'trained via '\n",
      "                                                             'knowledge '\n",
      "                                                             'distillation '\n",
      "                                                             'with GPT-3 '\n",
      "                                                             'pseudo labels, '\n",
      "                                                             'and then '\n",
      "                                                             'optimized '\n",
      "                                                             'through a '\n",
      "                                                             'differentiable '\n",
      "                                                             'beam search '\n",
      "                                                             'algorithm.\\n'\n",
      "                                                             '\\n'\n",
      "                                                             'The experiments '\n",
      "                                                             'show that '\n",
      "                                                             'IAG-GPT has '\n",
      "                                                             'significant '\n",
      "                                                             'advantages over '\n",
      "                                                             'ChatGPT and '\n",
      "                                                             'performs '\n",
      "                                                             'extremely well '\n",
      "                                                             'on CSQA2.0 and '\n",
      "                                                             'StrategyQA. '\n",
      "                                                             'IAG-Student '\n",
      "                                                             'outperforms RAG '\n",
      "                                                             'baselines.\\n'},\n",
      "             'Questions_for_the_Authors': {'value': '1. In the IAG-student '\n",
      "                                                    'algorithm, the generator '\n",
      "                                                    'is first trained followed '\n",
      "                                                    'by the inductor, will '\n",
      "                                                    'finetuning the generator '\n",
      "                                                    'together with the '\n",
      "                                                    'inductor help?\\n'\n",
      "                                                    '\\n'\n",
      "                                                    '2. In line 228, How to '\n",
      "                                                    'calculate the mu and '\n",
      "                                                    'sigma for the '\n",
      "                                                    'distribution?\\n'\n",
      "                                                    '\\n'},\n",
      "             'Reasons_to_accept': {'value': 'This paper addresses a '\n",
      "                                            'non-trivial problem for implicit '\n",
      "                                            'reasoning by introducing an '\n",
      "                                            'inductor with the assistance of '\n",
      "                                            'LLMs.  \\n'\n",
      "                                            '\\n'\n",
      "                                            'The authors conduct extensive '\n",
      "                                            'experiments and the experiment '\n",
      "                                            'results are reasonable.\\n'\n",
      "                                            '\\n'},\n",
      "             'Reasons_to_reject': {'value': '1. The generalization ability of '\n",
      "                                            'the model is a major concern. \\n'\n",
      "                                            '- The model assigns inductive '\n",
      "                                            'information to every question, '\n",
      "                                            'even when some questions do not '\n",
      "                                            'require it. A potential solution '\n",
      "                                            'could be implementing a question '\n",
      "                                            'classifier to identify the type '\n",
      "                                            'of question and determine whether '\n",
      "                                            'inductive information is '\n",
      "                                            'necessary for a particular '\n",
      "                                            'query.\\n'\n",
      "                                            '- The strict '\n",
      "                                            'structure/formulation of the '\n",
      "                                            'prompt, especially the Knowledge '\n",
      "                                            'part, is another issue (lines '\n",
      "                                            '245-247). \\n'\n",
      "                                            '\\n'\n",
      "                                            '2. Another minor issue is that '\n",
      "                                            'there is a huge gap between the '\n",
      "                                            'performance of IAG-GPT and '\n",
      "                                            'IAG-Student, which makes the '\n",
      "                                            'distilled model and its '\n",
      "                                            'corresponding algorithm less '\n",
      "                                            'convincing. More experiments on '\n",
      "                                            'larger models are expected. \\n'\n",
      "                                            '\\n'},\n",
      "             'Reproducibility': {'value': '4: Could mostly reproduce the '\n",
      "                                          'results, but there may be some '\n",
      "                                          'variation because of sample '\n",
      "                                          'variance or minor variations in '\n",
      "                                          'their interpretation of the '\n",
      "                                          'protocol or method.'},\n",
      "             'Reviewer_Confidence': {'value': '4: Quite sure. I tried to check '\n",
      "                                              'the important points carefully. '\n",
      "                                              \"It's unlikely, though \"\n",
      "                                              'conceivable, that I missed '\n",
      "                                              'something that should affect my '\n",
      "                                              'ratings.'},\n",
      "             'Soundness': {'value': '4: Strong: This study provides sufficient '\n",
      "                                    'support for all of its '\n",
      "                                    'claims/arguments. '}},\n",
      " 'ddate': None,\n",
      " 'details': None,\n",
      " 'domain': 'EMNLP/2023/Conference',\n",
      " 'forum': 'zwqDROxClj',\n",
      " 'id': 'LKMFvBsLIp',\n",
      " 'invitations': ['EMNLP/2023/Conference/Submission1595/-/Official_Review',\n",
      "                 'EMNLP/2023/Conference/-/Edit'],\n",
      " 'license': 'CC BY 4.0',\n",
      " 'mdate': 1701461113393,\n",
      " 'nonreaders': [],\n",
      " 'number': 1,\n",
      " 'odate': None,\n",
      " 'pdate': None,\n",
      " 'readers': ['everyone', 'EMNLP/2023/Conference/Submission1595/Reviewer_HrRJ'],\n",
      " 'replyto': 'zwqDROxClj',\n",
      " 'signatures': ['EMNLP/2023/Conference/Submission1595/Reviewer_HrRJ'],\n",
      " 'tcdate': 1691035545695,\n",
      " 'tmdate': 1701461113393,\n",
      " 'writers': ['EMNLP/2023/Conference',\n",
      "             'EMNLP/2023/Conference/Submission1595/Reviewer_HrRJ']}\n"
     ]
    }
   ],
   "source": [
    "print(reviews[0])"
   ]
  },
  {
   "cell_type": "code",
   "execution_count": null,
   "metadata": {
    "colab": {
     "base_uri": "https://localhost:8080/"
    },
    "executionInfo": {
     "elapsed": 1125,
     "status": "ok",
     "timestamp": 1733059196782,
     "user": {
      "displayName": "Zhuojing Huang",
      "userId": "12887835132494288694"
     },
     "user_tz": -60
    },
    "id": "2WJXzeI5VzHS",
    "outputId": "8e4ccbdb-8bcc-4561-e91e-9ec05825d871"
   },
   "outputs": [],
   "source": [
    "import json\n",
    "\n",
    "# serialize non-serializable Note objects\n",
    "def custom_serializer(obj):\n",
    "    # convert Note to a dictionary\n",
    "    if hasattr(obj, '__dict__'):\n",
    "        return obj.__dict__\n",
    "    # in case of unstandard type, convert to string as a fallback\n",
    "    return str(obj)\n",
    "\n",
    "filepath = \"/content/drive/MyDrive/Thesis/NeurIPS.json\"\n",
    "\n",
    "with open(filepath, 'w') as json_file:\n",
    "    json.dump(reviews, json_file, indent=4, default=custom_serializer)\n",
    "\n",
    "print(f\"Data saved to {filepath}\")\n"
   ]
  },
  {
   "cell_type": "code",
   "execution_count": null,
   "metadata": {
    "id": "B6E53tgKm1dq"
   },
   "outputs": [],
   "source": []
  }
 ],
 "metadata": {
  "colab": {
   "authorship_tag": "ABX9TyMpcUFaohxKHdf8rIBc+8F5",
   "mount_file_id": "1FFLkzJFnV3PrmGxXnrpxhrUM3TazpDLX",
   "name": "",
   "version": ""
  },
  "kernelspec": {
   "display_name": "Python 3",
   "name": "python3"
  },
  "language_info": {
   "name": "python"
  }
 },
 "nbformat": 4,
 "nbformat_minor": 0
}
